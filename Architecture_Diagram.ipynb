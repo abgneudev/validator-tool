{
 "cells": [
  {
   "cell_type": "code",
   "execution_count": 22,
   "metadata": {},
   "outputs": [],
   "source": [
    "from diagrams import Cluster, Diagram, Edge\n",
    "from diagrams.aws.storage import S3\n",
    "from diagrams.custom import Custom\n",
    "from diagrams.onprem.database import Mssql  # Use Mssql instead of SQL\n"
   ]
  },
  {
   "cell_type": "code",
   "execution_count": null,
   "metadata": {},
   "outputs": [],
   "source": [
    "openai_icon = \"/Users/nishitamatlani/Documents/Big Data /images/Open_api.png\"\n",
    "streamlit_icon = \"/Users/nishitamatlani/Documents/Big Data /images/Streamlit-logo-primary-colormark-darktext.png\"\n",
    "pandas_icon = \"/Users/nishitamatlani/Documents/Big Data /images/pandas.png\"\n",
    "gaia_icon = \"/Users/nishitamatlani/Documents/Big Data /images/hf-logo.png\""
   ]
  },
  {
   "cell_type": "code",
   "execution_count": null,
   "metadata": {},
   "outputs": [],
   "source": [
    "with Diagram(\"GAIA Model Evaluation Architecture\", outformat=\"png\", filename=\"gaia_model_large\", graph_attr={\"size\": \"12,12\", \"dpi\": \"200\", \"splines\": \"true\"}):\n",
    "\n",
    "    # Data Layer\n",
    "    with Cluster(\"Data Layer\", graph_attr={\"padding\": \"30\"}):  \n",
    "        gaia = Custom(\"GAIA Dataset\", gaia_icon)\n",
    "        s3_structured = S3(\"S3 Bucket\")\n",
    "        \n",
    "        # SQL Server for metadata\n",
    "        sql_server = Mssql(\"SQL Server (Metadata)\")\n",
    "\n",
    "        # Interactions in Data Layer\n",
    "        gaia >> Edge(color=\"darkblue\", style=\"bold\") >> s3_structured\n",
    "        sql_server << Edge(color=\"darkblue\", style=\"bold\") >> s3_structured  \n",
    "\n",
    "    # Application Layer\n",
    "    with Cluster(\"Application Layer\", graph_attr={\"padding\": \"30\"}):  \n",
    "        streamlit = Custom(\"Streamlit UI\", streamlit_icon)\n",
    "        pandas = Custom(\"Python + Pandas\", pandas_icon)\n",
    "        \n",
    "        # Connect S3 Buckets directly to Application Layer\n",
    "        s3_structured << Edge(color=\"purple\", style=\"dashed\", minlen=\"2\") >> pandas\n",
    "        pandas >> Edge(color=\"orange\", style=\"bold\", minlen=\"2\") >> streamlit  \n",
    "\n",
    "    # Model Integration Layer\n",
    "    openai = Custom(\"OpenAI API\", openai_icon)\n",
    "    streamlit << Edge(color=\"darkgreen\", style=\"dotted\", minlen=\"2\") >> openai  \n"
   ]
  }
 ],
 "metadata": {
  "kernelspec": {
   "display_name": "base",
   "language": "python",
   "name": "python3"
  },
  "language_info": {
   "codemirror_mode": {
    "name": "ipython",
    "version": 3
   },
   "file_extension": ".py",
   "mimetype": "text/x-python",
   "name": "python",
   "nbconvert_exporter": "python",
   "pygments_lexer": "ipython3",
   "version": "3.11.5"
  }
 },
 "nbformat": 4,
 "nbformat_minor": 2
}
